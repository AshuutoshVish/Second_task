{
 "cells": [
  {
   "cell_type": "code",
   "execution_count": 1,
   "id": "882331dd-5ef3-4090-b24d-97e58875f0bf",
   "metadata": {},
   "outputs": [],
   "source": [
    "import pandas as pd\n",
    "import json\n",
    "import re\n",
    "import os\n",
    "import xlsxwriter"
   ]
  },
  {
   "cell_type": "code",
   "execution_count": 2,
   "id": "ecd85d5b-1a3c-4eb6-8345-de30b5fa3208",
   "metadata": {},
   "outputs": [],
   "source": [
    "df = pd.read_csv('Ashutosh.csv')"
   ]
  },
  {
   "cell_type": "code",
   "execution_count": 3,
   "id": "d94e556f-1665-4520-ac31-4901edfe303a",
   "metadata": {},
   "outputs": [
    {
     "data": {
      "text/html": [
       "<div>\n",
       "<style scoped>\n",
       "    .dataframe tbody tr th:only-of-type {\n",
       "        vertical-align: middle;\n",
       "    }\n",
       "\n",
       "    .dataframe tbody tr th {\n",
       "        vertical-align: top;\n",
       "    }\n",
       "\n",
       "    .dataframe thead th {\n",
       "        text-align: right;\n",
       "    }\n",
       "</style>\n",
       "<table border=\"1\" class=\"dataframe\">\n",
       "  <thead>\n",
       "    <tr style=\"text-align: right;\">\n",
       "      <th></th>\n",
       "      <th>Title</th>\n",
       "      <th>JSON Response</th>\n",
       "    </tr>\n",
       "  </thead>\n",
       "  <tbody>\n",
       "    <tr>\n",
       "      <th>0</th>\n",
       "      <td>Django</td>\n",
       "      <td>{\\n    \"id\": 1250569,\\n    \"name\": \"Django\",\\n...</td>\n",
       "    </tr>\n",
       "    <tr>\n",
       "      <th>1</th>\n",
       "      <td>Coding: Intermediate level</td>\n",
       "      <td>{\\n    \"id\": 1471468,\\n    \"name\": \"Coding: In...</td>\n",
       "    </tr>\n",
       "    <tr>\n",
       "      <th>2</th>\n",
       "      <td>Docker</td>\n",
       "      <td>{\\n    \"id\": 170977,\\n    \"name\": \"Docker\",\\n ...</td>\n",
       "    </tr>\n",
       "    <tr>\n",
       "      <th>3</th>\n",
       "      <td>ASP.NET</td>\n",
       "      <td>{\\n    \"id\": 895134,\\n    \"name\": \"ASP.NET (in...</td>\n",
       "    </tr>\n",
       "    <tr>\n",
       "      <th>4</th>\n",
       "      <td>Creating REST APIs</td>\n",
       "      <td>{\\n    \"id\": 1950355,\\n    \"name\": \"Creating R...</td>\n",
       "    </tr>\n",
       "    <tr>\n",
       "      <th>...</th>\n",
       "      <td>...</td>\n",
       "      <td>...</td>\n",
       "    </tr>\n",
       "    <tr>\n",
       "      <th>218</th>\n",
       "      <td>NetSuite Administration</td>\n",
       "      <td>{\\n    \"id\": 1258902,\\n    \"name\": \"NetSuite A...</td>\n",
       "    </tr>\n",
       "    <tr>\n",
       "      <th>219</th>\n",
       "      <td>Advanced Networking in Amazon Web Services (AWS)</td>\n",
       "      <td>{\\n    \"id\": 1431343,\\n    \"name\": \"Advanced N...</td>\n",
       "    </tr>\n",
       "    <tr>\n",
       "      <th>220</th>\n",
       "      <td>Linux</td>\n",
       "      <td>{\\n    \"id\": 925544,\\n    \"name\": \"Linux\",\\n  ...</td>\n",
       "    </tr>\n",
       "    <tr>\n",
       "      <th>221</th>\n",
       "      <td>Wireshark</td>\n",
       "      <td>{\\n    \"id\": 996346,\\n    \"name\": \"Wireshark\",...</td>\n",
       "    </tr>\n",
       "    <tr>\n",
       "      <th>222</th>\n",
       "      <td>Ansible</td>\n",
       "      <td>{\\n    \"id\": 561768,\\n    \"name\": \"Ansible\",\\n...</td>\n",
       "    </tr>\n",
       "  </tbody>\n",
       "</table>\n",
       "<p>223 rows × 2 columns</p>\n",
       "</div>"
      ],
      "text/plain": [
       "                                                Title  \\\n",
       "0                                              Django   \n",
       "1                          Coding: Intermediate level   \n",
       "2                                              Docker   \n",
       "3                                             ASP.NET   \n",
       "4                                  Creating REST APIs   \n",
       "..                                                ...   \n",
       "218                           NetSuite Administration   \n",
       "219  Advanced Networking in Amazon Web Services (AWS)   \n",
       "220                                             Linux   \n",
       "221                                         Wireshark   \n",
       "222                                           Ansible   \n",
       "\n",
       "                                         JSON Response  \n",
       "0    {\\n    \"id\": 1250569,\\n    \"name\": \"Django\",\\n...  \n",
       "1    {\\n    \"id\": 1471468,\\n    \"name\": \"Coding: In...  \n",
       "2    {\\n    \"id\": 170977,\\n    \"name\": \"Docker\",\\n ...  \n",
       "3    {\\n    \"id\": 895134,\\n    \"name\": \"ASP.NET (in...  \n",
       "4    {\\n    \"id\": 1950355,\\n    \"name\": \"Creating R...  \n",
       "..                                                 ...  \n",
       "218  {\\n    \"id\": 1258902,\\n    \"name\": \"NetSuite A...  \n",
       "219  {\\n    \"id\": 1431343,\\n    \"name\": \"Advanced N...  \n",
       "220  {\\n    \"id\": 925544,\\n    \"name\": \"Linux\",\\n  ...  \n",
       "221  {\\n    \"id\": 996346,\\n    \"name\": \"Wireshark\",...  \n",
       "222  {\\n    \"id\": 561768,\\n    \"name\": \"Ansible\",\\n...  \n",
       "\n",
       "[223 rows x 2 columns]"
      ]
     },
     "execution_count": 3,
     "metadata": {},
     "output_type": "execute_result"
    }
   ],
   "source": [
    "df"
   ]
  },
  {
   "cell_type": "code",
   "execution_count": 4,
   "id": "0001d3bd-94d0-4e02-a496-4fd9bff541e5",
   "metadata": {},
   "outputs": [
    {
     "data": {
      "text/plain": [
       "Title            4\n",
       "JSON Response    5\n",
       "dtype: int64"
      ]
     },
     "execution_count": 4,
     "metadata": {},
     "output_type": "execute_result"
    }
   ],
   "source": [
    "df.isnull().sum()"
   ]
  },
  {
   "cell_type": "code",
   "execution_count": 5,
   "id": "4ee68e54-51ae-4ec1-b2b3-eb5f55908d1b",
   "metadata": {},
   "outputs": [],
   "source": [
    "df.dropna(inplace=True)"
   ]
  },
  {
   "cell_type": "code",
   "execution_count": 6,
   "id": "0578e37e-8cea-465c-b041-ceb926ccafc7",
   "metadata": {},
   "outputs": [
    {
     "data": {
      "text/plain": [
       "(217, 2)"
      ]
     },
     "execution_count": 6,
     "metadata": {},
     "output_type": "execute_result"
    }
   ],
   "source": [
    "df.shape"
   ]
  },
  {
   "cell_type": "code",
   "execution_count": 7,
   "id": "ded1cb87-2eb0-4a77-94ab-6e657e0f7e23",
   "metadata": {},
   "outputs": [],
   "source": [
    "def is_valid_json(json_str):\n",
    "    try:\n",
    "        json.loads(json_str)\n",
    "        return True\n",
    "    except Exception as error:\n",
    "        print(\"json validation error\", error)\n",
    "        return False"
   ]
  },
  {
   "cell_type": "code",
   "execution_count": 8,
   "id": "7d6cfcb7-01de-4088-b322-8dae70a820b6",
   "metadata": {},
   "outputs": [],
   "source": [
    "df = df[df['JSON Response'].apply(is_valid_json)]"
   ]
  },
  {
   "cell_type": "code",
   "execution_count": 9,
   "id": "0ce8230c-2d00-45a6-9e89-bab9d5cd701c",
   "metadata": {},
   "outputs": [
    {
     "data": {
      "text/plain": [
       "'{\\n    \"id\": 1250569,\\n    \"name\": \"Django\",\\n    \"summary\": \"This Django test evaluates a candidate’s skills using the Django framework. This screening test will help you hire web developers and back-end engineers who can build reliable web applications with Django.\",\\n    \"duration\": 600.0,\\n    \"estimated_duration\": null,\\n    \"type\": [\\n        {\\n            \"id\": 7,\\n            \"name\": \"Programming skills\",\\n            \"visible\": true\\n        }\\n    ],\\n    \"is_new\": false,\\n    \"content_type_name\": \"test_authoring.test\",\\n    \"default_language\": \"en\",\\n    \"description\": \"Django is a high-level Python web framework that encourages rapid development and clean, pragmatic design. Hiring candidates with strong Django skills can lead to faster development, improved software scalability, better security, cost savings, and greater flexibility.  \\\\n\\\\nThis test evaluates candidates’ abilities to use Django’s model system for effective database management, implement Django views, write great Django templates, and use Django form features and validation.\\\\n\\\\nCandidates who do well on this test will demonstrate the ability to design and implement database models, create views that handle user requests and return appropriate responses, build efficient and reusable templates that display data, validate user input, write comprehensive tests to ensure the reliability of their code, and handle errors gracefully.\\\\n\\\\nSuccessful candidates will create scalable and maintainable web applications, reduce development time and costs, improve user experience, and effectively handle and recover from errors. Their proficiency in testing will help ensure the quality and stability of their applications, while their error-handling skills will contribute to a seamless user experience and enable effective troubleshooting.\\\\n\\\\nBy evaluating candidates’ Django proficiency, you can identify candidates well-equipped to develop robust and high-performing web applications. Their ability to deliver quality code, handle errors effectively, and provide a seamless user experience will increase customer satisfaction, higher engagement, and better business outcomes.\\\\n\\\\nIf you are interested in a test focusing specifically on the Django REST Framework (DRF), please visit our test library to find our DRF test.\",\\n    \"relevant\": \"Django developers, full-stack developers, back-end developers, web developers, software engineers, and any other roles that involve developing and maintaining web applications using the Django framework.\",\\n    \"job_roles\": [\\n        4058,\\n        3224,\\n        1961,\\n        6214,\\n        2297,\\n        4281,\\n        2321,\\n        2327,\\n        2354,\\n        1853,\\n        3536,\\n        4516,\\n        4528,\\n        4529,\\n        4530,\\n        4534,\\n        6185,\\n        2825,\\n        2834,\\n        2861,\\n        2864,\\n        2867,\\n        2870,\\n        3002,\\n        3014,\\n        6084,\\n        5074,\\n        5075,\\n        3113,\\n        3152,\\n        3155,\\n        1739,\\n        4059,\\n        3179\\n    ],\\n    \"owner\": {\\n        \"id\": 674180,\\n        \"biography\": \"Augustine is a seasoned software engineer specializing in backend development with Python/Django and NodeJS. With a passion for programming since a child, Augustine delights in the relationship between engineer and end user, creating powerful applications that can change the world. In his free time, Augustine enjoys all things nature-related, fueling his curiosity and creativity, which he brings to all his software engineering endeavors.\",\\n        \"country\": null,\\n        \"image\": \"https://tgo-public-assets-production.s3.amazonaws.com/production/76c0d130-be3c-405e-b536-8d14ddde3244-3d75d807-6ed6-4fa4-9836-592ad5583eb7.png\",\\n        \"full_name\": \"Augustine S.\",\\n        \"url\": null\\n    },\\n    \"level\": \"intermediate\",\\n    \"language\": \"en\",\\n    \"covered_skills\": [\\n        {\\n            \"id\": 1294804,\\n            \"description\": \"Preview questions\",\\n            \"preview\": true\\n        },\\n        {\\n            \"id\": 1294800,\\n            \"description\": \"Models and object-relational mapping (ORM)\",\\n            \"preview\": false\\n        },\\n        {\\n            \"id\": 1294801,\\n            \"description\": \"Views and templates\",\\n            \"preview\": false\\n        },\\n        {\\n            \"id\": 1294802,\\n            \"description\": \"Testing and security\",\\n            \"preview\": false\\n        },\\n        {\\n            \"id\": 1294803,\\n            \"description\": \"Forms and the Django admin\",\\n            \"preview\": false\\n        }\\n    ],\\n    \"preview_questions\": [\\n        {\\n            \"id\": 1095950,\\n            \"text\": \"<p>You are working on a Django project for a company that specializes in real estate. You need to choose a field type for the company’s model for storing property information that allows users to enter a price in US dollars. However, the company also operates in other countries and wants to support other currencies.</p><p>&nbsp;</p><p><strong style=\\\\\"color: rgb(0, 0, 0);\\\\\">Which of the following is the best approach for choosing this field?</strong></p>\",\\n            \"intro_text\": null,\\n            \"type\": \"multiple-choice\",\\n            \"shuffle\": true,\\n            \"answers\": [\\n                {\\n                    \"id\": 9252450,\\n                    \"text\": \"<p>Create a field that stores the price as a <code><strong>DecimalField</strong></code> and the currency code as a <code><strong>CharField</strong></code>.</p>\",\\n                    \"score\": 5,\\n                    \"rich_text\": false\\n                },\\n                {\\n                    \"id\": 9252451,\\n                    \"text\": \"<p>Create a <code><strong>DecimalField</strong></code> and allow users to enter the currency code as a separate field.</p>\",\\n                    \"score\": 0,\\n                    \"rich_text\": false\\n                },\\n                {\\n                    \"id\": 9252452,\\n                    \"text\": \"<p>Use Django\\'s built-in <code><strong>MoneyField</strong></code> and add support for additional currencies.</p>\",\\n                    \"score\": 0,\\n                    \"rich_text\": false\\n                },\\n                {\\n                    \"id\": 9252453,\\n                    \"text\": \"<p>Employ Django\\'s built-in <code><strong>CurrencyField</strong></code> and add support for US dollars.</p>\",\\n                    \"score\": 0,\\n                    \"rich_text\": false\\n                }\\n            ],\\n            \"skill_area\": 1294804,\\n            \"status\": \"active\",\\n            \"state\": \"new\",\\n            \"order\": 1,\\n            \"has_changed\": false,\\n            \"has_versions\": false,\\n            \"duration\": 0,\\n            \"previous_version\": null,\\n            \"identifier\": \"Q00.001\",\\n            \"code_language\": null,\\n            \"initial_code\": null,\\n            \"correct_code\": \"not-applicable\",\\n            \"return_type\": \"str\",\\n            \"function_name\": null,\\n            \"code_params\": [],\\n            \"code_test_cases\": [],\\n            \"sql_return_type\": \"SELECT\",\\n            \"initial_sql\": null,\\n            \"sql_test_cases\": [],\\n            \"typing_test_type\": null,\\n            \"typing_test_config\": null,\\n            \"typing_test_mode\": {\\n                \"numbers\": false,\\n                \"punctuation\": false,\\n                \"funbox\": \"none\",\\n                \"sentences\": false\\n            },\\n            \"long_answer_list\": false,\\n            \"max_items\": 100,\\n            \"min_items\": 0,\\n            \"scale\": 5,\\n            \"custom_question_id\": 1095950,\\n            \"what_to_look_for_in_the_answer\": \"\",\\n            \"why_is_this_question_relevant\": \"\",\\n            \"title\": \"\",\\n            \"category\": [],\\n            \"language\": \"en\",\\n            \"default_language\": \"en\",\\n            \"resources\": [],\\n            \"boilerplates\": [],\\n            \"programming_solutions\": [],\\n            \"test_cases\": [],\\n            \"test_version_number\": 1\\n        },\\n        {\\n            \"id\": 1095951,\\n            \"text\": \"<p>You have been hired as a Django website developer for an up-and-coming social media app company.&nbsp;You are working on the Django view responsible for displaying a list of posts from the social media app. You want to write a test to verify that the view uses the correct template. You’ve started with the code shown below.</p><p>&nbsp;</p><p><strong>Which line of code correctly completes the snippet to set up tests for this?</strong></p><p><strong>&nbsp;</strong></p><pre class=\\\\\"ql-syntax\\\\\" spellcheck=\\\\\"false\\\\\"><span class=\\\\\"hljs-keyword\\\\\">from</span> django.test <span class=\\\\\"hljs-keyword\\\\\">import</span> TestCase\\\\n<span class=\\\\\"hljs-keyword\\\\\">from</span> django.urls <span class=\\\\\"hljs-keyword\\\\\">import</span> reverse\\\\n<span class=\\\\\"hljs-class\\\\\"><span class=\\\\\"hljs-keyword\\\\\">class</span> <span class=\\\\\"hljs-title\\\\\">PostsTestCase</span><span class=\\\\\"hljs-params\\\\\">(TestCase)</span>:</span>\\\\n&nbsp;&nbsp;&nbsp;<span class=\\\\\"hljs-function\\\\\"><span class=\\\\\"hljs-keyword\\\\\">def</span> <span class=\\\\\"hljs-title\\\\\">test_post_template</span><span class=\\\\\"hljs-params\\\\\">(self)</span>:</span>\\\\n&nbsp;&nbsp;&nbsp;&nbsp;&nbsp;&nbsp;&nbsp;url = reverse(<span class=\\\\\"hljs-string\\\\\">\\'posts\\'</span>)\\\\n&nbsp;&nbsp;&nbsp;&nbsp;&nbsp;&nbsp;&nbsp;response = self.client.get(url)\\\\n</pre>\",\\n            \"intro_text\": null,\\n            \"type\": \"multiple-choice\",\\n            \"shuffle\": true,\\n            \"answers\": [\\n                {\\n                    \"id\": 9252454,\\n                    \"text\": \"<p><code><strong>self.assertEqual(response.template, \\'core/posts.html\\')</strong></code></p>\",\\n                    \"score\": 0,\\n                    \"rich_text\": false\\n                },\\n                {\\n                    \"id\": 9252455,\\n                    \"text\": \"<p><code><strong>self.assertTemplateUsed(response.template, \\'core/posts.html\\')</strong></code></p>\",\\n                    \"score\": 0,\\n                    \"rich_text\": false\\n                },\\n                {\\n                    \"id\": 9252456,\\n                    \"text\": \"<p><code><strong>self.assertTemplateUsed(response, \\'core/posts.html\\')</strong></code></p>\",\\n                    \"score\": 5,\\n                    \"rich_text\": false\\n                },\\n                {\\n                    \"id\": 9252457,\\n                    \"text\": \"<p><code><strong>self.assertEqual(response, \\'core/posts.html\\')</strong></code></p>\",\\n                    \"score\": 0,\\n                    \"rich_text\": false\\n                }\\n            ],\\n            \"skill_area\": 1294804,\\n            \"status\": \"active\",\\n            \"state\": \"new\",\\n            \"order\": 2,\\n            \"has_changed\": false,\\n            \"has_versions\": false,\\n            \"duration\": 0,\\n            \"previous_version\": null,\\n            \"identifier\": \"Q00.002\",\\n            \"code_language\": null,\\n            \"initial_code\": null,\\n            \"correct_code\": \"not-applicable\",\\n            \"return_type\": \"str\",\\n            \"function_name\": null,\\n            \"code_params\": [],\\n            \"code_test_cases\": [],\\n            \"sql_return_type\": \"SELECT\",\\n            \"initial_sql\": null,\\n            \"sql_test_cases\": [],\\n            \"typing_test_type\": null,\\n            \"typing_test_config\": null,\\n            \"typing_test_mode\": {\\n                \"numbers\": false,\\n                \"punctuation\": false,\\n                \"funbox\": \"none\",\\n                \"sentences\": false\\n            },\\n            \"long_answer_list\": false,\\n            \"max_items\": 100,\\n            \"min_items\": 0,\\n            \"scale\": 5,\\n            \"custom_question_id\": 1095951,\\n            \"what_to_look_for_in_the_answer\": \"\",\\n            \"why_is_this_question_relevant\": \"\",\\n            \"title\": \"\",\\n            \"category\": [],\\n            \"language\": \"en\",\\n            \"default_language\": \"en\",\\n            \"resources\": [],\\n            \"boilerplates\": [],\\n            \"programming_solutions\": [],\\n            \"test_cases\": [],\\n            \"test_version_number\": 1\\n        },\\n        {\\n            \"id\": 1095952,\\n            \"text\": \"<p>You are the lead developer creating a business website in Django. The website must have a “Contact Us” page that allows customers to ask questions and reach customer service. This page should show text fields for name, email, subject, and message. You already have a Contact model with name, email, subject, and message as fields.</p><p><br></p><p><strong>What is the best approach to define and create a form using Django\\'s form classes with the Contact model?</strong></p>\",\\n            \"intro_text\": null,\\n            \"type\": \"multiple-choice\",\\n            \"shuffle\": true,\\n            \"answers\": [\\n                {\\n                    \"id\": 9252458,\\n                    \"text\": \"<p>Define the form as a subclass of <code><strong>forms.Form</strong></code> and use <code><strong>forms.CharField</strong></code> for all the fields.</p>\",\\n                    \"score\": 0,\\n                    \"rich_text\": false\\n                },\\n                {\\n                    \"id\": 9252459,\\n                    \"text\": \"<p>Define the form as a subclass of <code><strong>forms.ModelForm</strong></code> and use <code><strong>forms.CharField</strong></code> for all the fields.</p>\",\\n                    \"score\": 0,\\n                    \"rich_text\": false\\n                },\\n                {\\n                    \"id\": 9252460,\\n                    \"text\": \"<p>Define the form as a subclass of <code><strong>forms.Form</strong></code> and use <code><strong>forms.EmailField</strong></code> for the email field and <code><strong>forms.CharField</strong></code> for the other fields.</p>\",\\n                    \"score\": 0,\\n                    \"rich_text\": false\\n                },\\n                {\\n                    \"id\": 9252461,\\n                    \"text\": \"<p>Define the form as a subclass of <code><strong>forms.ModelForm</strong></code> with name, email, subject, and message in the fields array.</p>\",\\n                    \"score\": 5,\\n                    \"rich_text\": false\\n                }\\n            ],\\n            \"skill_area\": 1294804,\\n            \"status\": \"active\",\\n            \"state\": \"new\",\\n            \"order\": 3,\\n            \"has_changed\": false,\\n            \"has_versions\": false,\\n            \"duration\": 0,\\n            \"previous_version\": null,\\n            \"identifier\": \"Q00.003\",\\n            \"code_language\": null,\\n            \"initial_code\": null,\\n            \"correct_code\": \"not-applicable\",\\n            \"return_type\": \"str\",\\n            \"function_name\": null,\\n            \"code_params\": [],\\n            \"code_test_cases\": [],\\n            \"sql_return_type\": \"SELECT\",\\n            \"initial_sql\": null,\\n            \"sql_test_cases\": [],\\n            \"typing_test_type\": null,\\n            \"typing_test_config\": null,\\n            \"typing_test_mode\": {\\n                \"numbers\": false,\\n                \"punctuation\": false,\\n                \"funbox\": \"none\",\\n                \"sentences\": false\\n            },\\n            \"long_answer_list\": false,\\n            \"max_items\": 100,\\n            \"min_items\": 0,\\n            \"scale\": 5,\\n            \"custom_question_id\": 1095952,\\n            \"what_to_look_for_in_the_answer\": \"\",\\n            \"why_is_this_question_relevant\": \"\",\\n            \"title\": \"\",\\n            \"category\": [],\\n            \"language\": \"en\",\\n            \"default_language\": \"en\",\\n            \"resources\": [],\\n            \"boilerplates\": [],\\n            \"programming_solutions\": [],\\n            \"test_cases\": [],\\n            \"test_version_number\": 1\\n        },\\n        {\\n            \"id\": 1095953,\\n            \"text\": \"<p>You are the lead developer building a Django blogging application. The application should allow guests to post articles on the site. The site’s instructions indicate that guest authors should capitalize every word in their blog post titles.&nbsp;However, some authors aren’t following instructions and post titles with lowercase words. You need to change all these titles so every word is capitalized.</p><p>&nbsp;</p><p><strong style=\\\\\"color: rgb(0, 0, 0);\\\\\">How should you accomplish this most efficiently?</strong></p>\",\\n            \"intro_text\": null,\\n            \"type\": \"multiple-choice\",\\n            \"shuffle\": true,\\n            \"answers\": [\\n                {\\n                    \"id\": 9252462,\\n                    \"text\": \"<p>Impersonate the guest authors and change the titles in the database manually.</p>\",\\n                    \"score\": 0,\\n                    \"rich_text\": false\\n                },\\n                {\\n                    \"id\": 9252463,\\n                    \"text\": \"<p>Email the guest authors and instruct them to capitalize their blog post titles.</p>\",\\n                    \"score\": 0,\\n                    \"rich_text\": false\\n                },\\n                {\\n                    \"id\": 9252464,\\n                    \"text\": \"<p>Use the <code><strong>```capitalize```</strong></code> HTML template filter, e.g.,&nbsp;<code><strong>{{ value | capitalize }}</strong></code></p>\",\\n                    \"score\": 0,\\n                    \"rich_text\": false\\n                },\\n                {\\n                    \"id\": 9252465,\\n                    \"text\": \"<p>Apply the <code><strong>```title```</strong></code> HTML template filter, e.g., <code><strong>{{ value | title }}</strong></code></p>\",\\n                    \"score\": 5,\\n                    \"rich_text\": false\\n                }\\n            ],\\n            \"skill_area\": 1294804,\\n            \"status\": \"active\",\\n            \"state\": \"new\",\\n            \"order\": 4,\\n            \"has_changed\": false,\\n            \"has_versions\": false,\\n            \"duration\": 0,\\n            \"previous_version\": null,\\n            \"identifier\": \"Q00.004\",\\n            \"code_language\": null,\\n            \"initial_code\": null,\\n            \"correct_code\": \"not-applicable\",\\n            \"return_type\": \"str\",\\n            \"function_name\": null,\\n            \"code_params\": [],\\n            \"code_test_cases\": [],\\n            \"sql_return_type\": \"SELECT\",\\n            \"initial_sql\": null,\\n            \"sql_test_cases\": [],\\n            \"typing_test_type\": null,\\n            \"typing_test_config\": null,\\n            \"typing_test_mode\": {\\n                \"numbers\": false,\\n                \"punctuation\": false,\\n                \"funbox\": \"none\",\\n                \"sentences\": false\\n            },\\n            \"long_answer_list\": false,\\n            \"max_items\": 100,\\n            \"min_items\": 0,\\n            \"scale\": 5,\\n            \"custom_question_id\": 1095953,\\n            \"what_to_look_for_in_the_answer\": \"\",\\n            \"why_is_this_question_relevant\": \"\",\\n            \"title\": \"\",\\n            \"category\": [],\\n            \"language\": \"en\",\\n            \"default_language\": \"en\",\\n            \"resources\": [],\\n            \"boilerplates\": [],\\n            \"programming_solutions\": [],\\n            \"test_cases\": [],\\n            \"test_version_number\": 1\\n        }\\n    ],\\n    \"get_level_display\": \"Intermediate\",\\n    \"preview\": 1294804,\\n    \"modified\": \"2024-10-25T12:56:52.444185Z\",\\n    \"test_uuid\": \"fe7212c3-c6ad-46ee-b46f-099994d110f5\",\\n    \"is_premium\": true,\\n    \"is_private_test\": false,\\n    \"is_spreadsheet_test\": false,\\n    \"test_type_names\": [\\n        \"Programming skills\"\\n    ],\\n    \"available_languages\": [\\n        \"en\"\\n    ],\\n    \"is_language_agnostic_test\": false,\\n    \"programming_languages\": [],\\n    \"status\": \"published\",\\n    \"is_coderunner_v1\": null\\n}'"
      ]
     },
     "execution_count": 9,
     "metadata": {},
     "output_type": "execute_result"
    }
   ],
   "source": [
    "df['JSON Response'].iloc[0]"
   ]
  },
  {
   "cell_type": "code",
   "execution_count": 10,
   "id": "e85a824d-9ccf-4e8c-874f-1b5cf32ddc8c",
   "metadata": {},
   "outputs": [],
   "source": [
    "def extract_key(json_str,key,subkey):\n",
    "    try:\n",
    "        parsed = json.loads(json_str)\n",
    "        value = parsed.get(key,None)\n",
    "\n",
    "        if isinstance(value,list) and len(value)>0 and isinstance(value[0],dict):\n",
    "            return value[0].get(subkey,None) if subkey else value[0]\n",
    "        return value\n",
    "    except Exception as err:\n",
    "        print('This is error is from key extraction as ', err)\n",
    "        return None"
   ]
  },
  {
   "cell_type": "code",
   "execution_count": 11,
   "id": "029d7e48-6956-4982-b42b-9d611dd3d922",
   "metadata": {},
   "outputs": [],
   "source": [
    "df['Type'] = df['JSON Response'].apply(lambda x: extract_key(x,'type','name'))"
   ]
  },
  {
   "cell_type": "code",
   "execution_count": 12,
   "id": "4ac8d3f6-832d-4fc3-a75a-5534861c888f",
   "metadata": {},
   "outputs": [
    {
     "data": {
      "text/html": [
       "<div>\n",
       "<style scoped>\n",
       "    .dataframe tbody tr th:only-of-type {\n",
       "        vertical-align: middle;\n",
       "    }\n",
       "\n",
       "    .dataframe tbody tr th {\n",
       "        vertical-align: top;\n",
       "    }\n",
       "\n",
       "    .dataframe thead th {\n",
       "        text-align: right;\n",
       "    }\n",
       "</style>\n",
       "<table border=\"1\" class=\"dataframe\">\n",
       "  <thead>\n",
       "    <tr style=\"text-align: right;\">\n",
       "      <th></th>\n",
       "      <th>Title</th>\n",
       "      <th>JSON Response</th>\n",
       "      <th>Type</th>\n",
       "    </tr>\n",
       "  </thead>\n",
       "  <tbody>\n",
       "    <tr>\n",
       "      <th>0</th>\n",
       "      <td>Django</td>\n",
       "      <td>{\\n    \"id\": 1250569,\\n    \"name\": \"Django\",\\n...</td>\n",
       "      <td>Programming skills</td>\n",
       "    </tr>\n",
       "    <tr>\n",
       "      <th>1</th>\n",
       "      <td>Coding: Intermediate level</td>\n",
       "      <td>{\\n    \"id\": 1471468,\\n    \"name\": \"Coding: In...</td>\n",
       "      <td>Programming skills</td>\n",
       "    </tr>\n",
       "    <tr>\n",
       "      <th>2</th>\n",
       "      <td>Docker</td>\n",
       "      <td>{\\n    \"id\": 170977,\\n    \"name\": \"Docker\",\\n ...</td>\n",
       "      <td>Software skills</td>\n",
       "    </tr>\n",
       "    <tr>\n",
       "      <th>3</th>\n",
       "      <td>ASP.NET</td>\n",
       "      <td>{\\n    \"id\": 895134,\\n    \"name\": \"ASP.NET (in...</td>\n",
       "      <td>Programming skills</td>\n",
       "    </tr>\n",
       "    <tr>\n",
       "      <th>4</th>\n",
       "      <td>Creating REST APIs</td>\n",
       "      <td>{\\n    \"id\": 1950355,\\n    \"name\": \"Creating R...</td>\n",
       "      <td>Programming skills</td>\n",
       "    </tr>\n",
       "  </tbody>\n",
       "</table>\n",
       "</div>"
      ],
      "text/plain": [
       "                        Title  \\\n",
       "0                      Django   \n",
       "1  Coding: Intermediate level   \n",
       "2                      Docker   \n",
       "3                     ASP.NET   \n",
       "4          Creating REST APIs   \n",
       "\n",
       "                                       JSON Response                Type  \n",
       "0  {\\n    \"id\": 1250569,\\n    \"name\": \"Django\",\\n...  Programming skills  \n",
       "1  {\\n    \"id\": 1471468,\\n    \"name\": \"Coding: In...  Programming skills  \n",
       "2  {\\n    \"id\": 170977,\\n    \"name\": \"Docker\",\\n ...     Software skills  \n",
       "3  {\\n    \"id\": 895134,\\n    \"name\": \"ASP.NET (in...  Programming skills  \n",
       "4  {\\n    \"id\": 1950355,\\n    \"name\": \"Creating R...  Programming skills  "
      ]
     },
     "execution_count": 12,
     "metadata": {},
     "output_type": "execute_result"
    }
   ],
   "source": [
    "df.head()"
   ]
  },
  {
   "cell_type": "code",
   "execution_count": 13,
   "id": "0eb6ed53-ed96-460f-9cbc-70fa770fd324",
   "metadata": {},
   "outputs": [],
   "source": [
    "def cleanhtml(text):\n",
    "    text = re.sub(r\"<.*?>\", '', text)\n",
    "    text = text.replace('\\n', ' ')\n",
    "    text = text.replace('&nbsp;', ' ')\n",
    "    text = text.strip()\n",
    "    return text"
   ]
  },
  {
   "cell_type": "code",
   "execution_count": 14,
   "id": "6edf901d-7125-4f05-ac3d-b55e399ffa20",
   "metadata": {},
   "outputs": [],
   "source": [
    "def scorechecker(parsed):\n",
    "    try:    \n",
    "        score = [] if parsed.get('type') == 'multiple-response' else None \n",
    "        for answer in parsed.get('answers',[]):\n",
    "            if isinstance(score,list):\n",
    "                if answer.get('score',0)>0:\n",
    "                    score.append(cleanhtml(answer.get('text')))\n",
    "            else:\n",
    "                if answer.get('score',0)>0:   \n",
    "                    score = cleanhtml(answer.get('text'))\n",
    "                    break\n",
    "        return score if score else None\n",
    "\n",
    "    except Exception as err:\n",
    "        print('The error is', err)\n",
    "        return None"
   ]
  },
  {
   "cell_type": "code",
   "execution_count": 15,
   "id": "f582ef6a-187f-485f-86bb-6cc153cdfaef",
   "metadata": {},
   "outputs": [],
   "source": [
    "def extract_data(json_str):\n",
    "    try:\n",
    "        parsed = json.loads(json_str)\n",
    "        question_set = []\n",
    "\n",
    "        for question in parsed.get('preview_questions',[]):\n",
    "            title = cleanhtml(question.get('text',''))\n",
    "            options = []\n",
    "            ques_type = None\n",
    "            score = None\n",
    "\n",
    "            if question.get('type') == 'multiple-choice':\n",
    "                ques_type = 2\n",
    "                options = [answer.get('text') for answer in question.get('answers',[])]\n",
    "                score = scorechecker(question)\n",
    "            elif question.get('type') == 'multiple-response':\n",
    "                ques_type = 15\n",
    "                options = [answer.get('text') for answer in question.get('answers',[])]\n",
    "                score = scorechecker(question)\n",
    "            elif question.get('type') == 'truefalse':\n",
    "                ques_type = 11\n",
    "                options = ['true', 'false']\n",
    "                score = scorechecker(question)\n",
    "            \n",
    "            question_set.append(\n",
    "                {\n",
    "                    'title':title,\n",
    "                    'ques_type':ques_type,\n",
    "                    'options':options,\n",
    "                    'score':score\n",
    "                }\n",
    "            )\n",
    "\n",
    "        return question_set\n",
    "\n",
    "    except Exception as error:\n",
    "        print('Exract data error ', error)\n",
    "        return []"
   ]
  },
  {
   "cell_type": "code",
   "execution_count": 16,
   "id": "d630d3a4-13f8-4a31-b103-0b8c2ec00ea9",
   "metadata": {},
   "outputs": [],
   "source": [
    "df['questions'] = df['JSON Response'].apply(lambda x: extract_data(x))"
   ]
  },
  {
   "cell_type": "code",
   "execution_count": 17,
   "id": "6965bfc9-81d1-4982-879e-bd9d6da4f779",
   "metadata": {},
   "outputs": [
    {
     "data": {
      "text/html": [
       "<div>\n",
       "<style scoped>\n",
       "    .dataframe tbody tr th:only-of-type {\n",
       "        vertical-align: middle;\n",
       "    }\n",
       "\n",
       "    .dataframe tbody tr th {\n",
       "        vertical-align: top;\n",
       "    }\n",
       "\n",
       "    .dataframe thead th {\n",
       "        text-align: right;\n",
       "    }\n",
       "</style>\n",
       "<table border=\"1\" class=\"dataframe\">\n",
       "  <thead>\n",
       "    <tr style=\"text-align: right;\">\n",
       "      <th></th>\n",
       "      <th>Title</th>\n",
       "      <th>JSON Response</th>\n",
       "      <th>Type</th>\n",
       "      <th>questions</th>\n",
       "    </tr>\n",
       "  </thead>\n",
       "  <tbody>\n",
       "    <tr>\n",
       "      <th>0</th>\n",
       "      <td>Django</td>\n",
       "      <td>{\\n    \"id\": 1250569,\\n    \"name\": \"Django\",\\n...</td>\n",
       "      <td>Programming skills</td>\n",
       "      <td>[{'title': 'You are working on a Django projec...</td>\n",
       "    </tr>\n",
       "    <tr>\n",
       "      <th>1</th>\n",
       "      <td>Coding: Intermediate level</td>\n",
       "      <td>{\\n    \"id\": 1471468,\\n    \"name\": \"Coding: In...</td>\n",
       "      <td>Programming skills</td>\n",
       "      <td>[{'title': 'The MEX number of a non-negative s...</td>\n",
       "    </tr>\n",
       "    <tr>\n",
       "      <th>2</th>\n",
       "      <td>Docker</td>\n",
       "      <td>{\\n    \"id\": 170977,\\n    \"name\": \"Docker\",\\n ...</td>\n",
       "      <td>Software skills</td>\n",
       "      <td>[{'title': 'Given the Dockerfile below, what i...</td>\n",
       "    </tr>\n",
       "    <tr>\n",
       "      <th>3</th>\n",
       "      <td>ASP.NET</td>\n",
       "      <td>{\\n    \"id\": 895134,\\n    \"name\": \"ASP.NET (in...</td>\n",
       "      <td>Programming skills</td>\n",
       "      <td>[{'title': 'Which code snippet can you use to ...</td>\n",
       "    </tr>\n",
       "    <tr>\n",
       "      <th>4</th>\n",
       "      <td>Creating REST APIs</td>\n",
       "      <td>{\\n    \"id\": 1950355,\\n    \"name\": \"Creating R...</td>\n",
       "      <td>Programming skills</td>\n",
       "      <td>[{'title': 'You're building a high-throughput ...</td>\n",
       "    </tr>\n",
       "  </tbody>\n",
       "</table>\n",
       "</div>"
      ],
      "text/plain": [
       "                        Title  \\\n",
       "0                      Django   \n",
       "1  Coding: Intermediate level   \n",
       "2                      Docker   \n",
       "3                     ASP.NET   \n",
       "4          Creating REST APIs   \n",
       "\n",
       "                                       JSON Response                Type  \\\n",
       "0  {\\n    \"id\": 1250569,\\n    \"name\": \"Django\",\\n...  Programming skills   \n",
       "1  {\\n    \"id\": 1471468,\\n    \"name\": \"Coding: In...  Programming skills   \n",
       "2  {\\n    \"id\": 170977,\\n    \"name\": \"Docker\",\\n ...     Software skills   \n",
       "3  {\\n    \"id\": 895134,\\n    \"name\": \"ASP.NET (in...  Programming skills   \n",
       "4  {\\n    \"id\": 1950355,\\n    \"name\": \"Creating R...  Programming skills   \n",
       "\n",
       "                                           questions  \n",
       "0  [{'title': 'You are working on a Django projec...  \n",
       "1  [{'title': 'The MEX number of a non-negative s...  \n",
       "2  [{'title': 'Given the Dockerfile below, what i...  \n",
       "3  [{'title': 'Which code snippet can you use to ...  \n",
       "4  [{'title': 'You're building a high-throughput ...  "
      ]
     },
     "execution_count": 17,
     "metadata": {},
     "output_type": "execute_result"
    }
   ],
   "source": [
    "df.head()"
   ]
  },
  {
   "cell_type": "code",
   "execution_count": 18,
   "id": "024d0a6f-f94f-405f-8a92-851af7a645b8",
   "metadata": {},
   "outputs": [
    {
     "data": {
      "text/plain": [
       "[{'title': 'You are working on a Django project for a company that specializes in real estate. You need to choose a field type for the company’s model for storing property information that allows users to enter a price in US dollars. However, the company also operates in other countries and wants to support other currencies. Which of the following is the best approach for choosing this field?',\n",
       "  'ques_type': 2,\n",
       "  'options': ['<p>Create a field that stores the price as a <code><strong>DecimalField</strong></code> and the currency code as a <code><strong>CharField</strong></code>.</p>',\n",
       "   '<p>Create a <code><strong>DecimalField</strong></code> and allow users to enter the currency code as a separate field.</p>',\n",
       "   \"<p>Use Django's built-in <code><strong>MoneyField</strong></code> and add support for additional currencies.</p>\",\n",
       "   \"<p>Employ Django's built-in <code><strong>CurrencyField</strong></code> and add support for US dollars.</p>\"],\n",
       "  'score': 'Create a field that stores the price as a DecimalField and the currency code as a CharField.'},\n",
       " {'title': \"You have been hired as a Django website developer for an up-and-coming social media app company. You are working on the Django view responsible for displaying a list of posts from the social media app. You want to write a test to verify that the view uses the correct template. You’ve started with the code shown below. Which line of code correctly completes the snippet to set up tests for this? from django.test import TestCase from django.urls import reverse class PostsTestCase(TestCase):    def test_post_template(self):        url = reverse('posts')        response = self.client.get(url)\",\n",
       "  'ques_type': 2,\n",
       "  'options': [\"<p><code><strong>self.assertEqual(response.template, 'core/posts.html')</strong></code></p>\",\n",
       "   \"<p><code><strong>self.assertTemplateUsed(response.template, 'core/posts.html')</strong></code></p>\",\n",
       "   \"<p><code><strong>self.assertTemplateUsed(response, 'core/posts.html')</strong></code></p>\",\n",
       "   \"<p><code><strong>self.assertEqual(response, 'core/posts.html')</strong></code></p>\"],\n",
       "  'score': \"self.assertTemplateUsed(response, 'core/posts.html')\"},\n",
       " {'title': \"You are the lead developer creating a business website in Django. The website must have a “Contact Us” page that allows customers to ask questions and reach customer service. This page should show text fields for name, email, subject, and message. You already have a Contact model with name, email, subject, and message as fields.What is the best approach to define and create a form using Django's form classes with the Contact model?\",\n",
       "  'ques_type': 2,\n",
       "  'options': ['<p>Define the form as a subclass of <code><strong>forms.Form</strong></code> and use <code><strong>forms.CharField</strong></code> for all the fields.</p>',\n",
       "   '<p>Define the form as a subclass of <code><strong>forms.ModelForm</strong></code> and use <code><strong>forms.CharField</strong></code> for all the fields.</p>',\n",
       "   '<p>Define the form as a subclass of <code><strong>forms.Form</strong></code> and use <code><strong>forms.EmailField</strong></code> for the email field and <code><strong>forms.CharField</strong></code> for the other fields.</p>',\n",
       "   '<p>Define the form as a subclass of <code><strong>forms.ModelForm</strong></code> with name, email, subject, and message in the fields array.</p>'],\n",
       "  'score': 'Define the form as a subclass of forms.ModelForm with name, email, subject, and message in the fields array.'},\n",
       " {'title': 'You are the lead developer building a Django blogging application. The application should allow guests to post articles on the site. The site’s instructions indicate that guest authors should capitalize every word in their blog post titles. However, some authors aren’t following instructions and post titles with lowercase words. You need to change all these titles so every word is capitalized. How should you accomplish this most efficiently?',\n",
       "  'ques_type': 2,\n",
       "  'options': ['<p>Impersonate the guest authors and change the titles in the database manually.</p>',\n",
       "   '<p>Email the guest authors and instruct them to capitalize their blog post titles.</p>',\n",
       "   '<p>Use the <code><strong>```capitalize```</strong></code> HTML template filter, e.g.,&nbsp;<code><strong>{{ value | capitalize }}</strong></code></p>',\n",
       "   '<p>Apply the <code><strong>```title```</strong></code> HTML template filter, e.g., <code><strong>{{ value | title }}</strong></code></p>'],\n",
       "  'score': 'Apply the ```title``` HTML template filter, e.g., {{ value | title }}'}]"
      ]
     },
     "execution_count": 18,
     "metadata": {},
     "output_type": "execute_result"
    }
   ],
   "source": [
    "df['questions'].iloc[0]"
   ]
  },
  {
   "cell_type": "code",
   "execution_count": 19,
   "id": "b3c78cca-71c1-43d5-af6a-f63ab56e29f8",
   "metadata": {},
   "outputs": [
    {
     "name": "stdout",
     "output_type": "stream",
     "text": [
      "[['scoreNone\\n\\n', 'The MEX number of a non-negative set of numbers is the smallest non-negative number that is not present in the set. For example, MEX({1 3 10})=0, and MEX({0 1 2 8})=3.Your task is to write the function updateMEX which takes a given array arr of length num and removes the minimum number of elements from it so that the MEX value of the modified array is not equal to the MEX value of the original array.The arguments are passed in the order: num, arrYour code should return the minimum number of elements that need to be removed from the array.If the task is not possible, then your code should return -1.Keep in mind:Array arr elements are non-negative integersArray elements are not necessarily distinct1 &lt;= num &lt;= 400 &lt;= arr[i] &lt;= 90Example 1Input:num = 4arr = 0 1 1 4Output:1 Explanation: The MEX of the input array is 2. If we remove the element \"0\" from it, we have a modified array of 1 1 4 with MEX = 0, which is not equal to 2. So, the answer is 1 as removing one element changed the MEX of the array.Example 2Input:num = 4arr = 1 2 3 4Output:-1Explanation: The MEX of the input array is 0. No matter what elements you remove from the array, the MEX remains unchanged. Hence we return -1.']]\n"
     ]
    }
   ],
   "source": [
    "# to check 'questions' column contains list\n",
    "question_list = df['questions'].loc[1]\n",
    "\n",
    "if isinstance(question_list, list):\n",
    "    formatted_data = [\n",
    "        [\"score\" + str(question.get('score', None)) + \"\\n\\n\", question.get('title', 'No Title')] \n",
    "        for question in question_list\n",
    "    ]\n",
    "else:\n",
    "    formatted_data = []\n",
    "print(formatted_data)"
   ]
  },
  {
   "cell_type": "code",
   "execution_count": 20,
   "id": "70cf4ed5-435b-4bd8-afac-7676b33454ea",
   "metadata": {},
   "outputs": [
    {
     "data": {
      "text/plain": [
       "array(['Programming skills', 'Software skills', 'Role-specific skills',\n",
       "       'Cognitive ability', 'Situational judgment'], dtype=object)"
      ]
     },
     "execution_count": 20,
     "metadata": {},
     "output_type": "execute_result"
    }
   ],
   "source": [
    "df['Type'].unique()"
   ]
  },
  {
   "cell_type": "code",
   "execution_count": 21,
   "id": "74d7c584-2706-42ec-8eed-56281ae3034a",
   "metadata": {},
   "outputs": [
    {
     "data": {
      "text/plain": [
       "(217, 4)"
      ]
     },
     "execution_count": 21,
     "metadata": {},
     "output_type": "execute_result"
    }
   ],
   "source": [
    "df.shape"
   ]
  },
  {
   "cell_type": "code",
   "execution_count": null,
   "id": "70beed7e-a5fd-4804-a812-8b966b60aa7a",
   "metadata": {},
   "outputs": [],
   "source": []
  },
  {
   "cell_type": "code",
   "execution_count": 22,
   "id": "0c82f356-bfbb-4e49-8bc3-d3c0df278632",
   "metadata": {},
   "outputs": [],
   "source": [
    "main_folder = 'questions_test'\n",
    "# os.makedirs(main_folder, exist_ok=True)\n",
    "\n",
    "for _,row in df.iterrows():\n",
    "    type_folder = os.path.join(main_folder,str(row['Type']))\n",
    "    os.makedirs(type_folder, exist_ok=True)\n",
    "\n",
    "    file_name = re.sub(r'[\\\\/*?:\"<>|]', \"\", row['Title']) + \".xlsx\"\n",
    "    file_path = os.path.join(type_folder,file_name)\n",
    "\n",
    "    questions_data = \"questions = \"+ cleanhtml(json.dumps(row['questions'],indent=4))\n",
    "    questions_df = pd.DataFrame([questions_data])\n",
    "    questions_df.reset_index(drop=True, inplace=True)\n",
    "\n",
    "    with pd.ExcelWriter(file_path, engine='xlsxwriter') as writer:\n",
    "        questions_df.to_excel(writer, index=False, header=False, sheet_name=\"Questions\")\n",
    "            "
   ]
  }
 ],
 "metadata": {
  "kernelspec": {
   "display_name": "Python 3 (ipykernel)",
   "language": "python",
   "name": "python3"
  },
  "language_info": {
   "codemirror_mode": {
    "name": "ipython",
    "version": 3
   },
   "file_extension": ".py",
   "mimetype": "text/x-python",
   "name": "python",
   "nbconvert_exporter": "python",
   "pygments_lexer": "ipython3",
   "version": "3.13.1"
  }
 },
 "nbformat": 4,
 "nbformat_minor": 5
}
