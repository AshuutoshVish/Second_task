{
 "cells": [
  {
   "cell_type": "code",
   "execution_count": null,
   "id": "3e174045-9459-4395-8277-eb270f816cac",
   "metadata": {},
   "outputs": [],
   "source": [
    "def format_questions(questions):\n",
    "    formatted_questions = []\n",
    "    if questions:\n",
    "        for question in questions:\n",
    "            formatted_question = {}\n",
    "            \n",
    "            formatted_question['title'] = question.get('text', '')\n",
    "            if question.get('type') == 'multiple-choice':\n",
    "                formatted_question['ques_type'] = 1\n",
    "                options = [answer.get('text', '') for answer in question.get('answers', [])]\n",
    "                formatted_question['options'] = options\n",
    "                \n",
    "                correct_option = next((answer.get('text', '') for answer in question.get('answers', [])\n",
    "                                       if answer.get('score') == 5), None)\n",
    "                formatted_question['score'] = correct_option\n",
    "                \n",
    "            elif question.get('type') == 'true-false':\n",
    "                formatted_question['ques_type'] = 2\n",
    "                formatted_question['options'] = ['true', 'false']\n",
    "                \n",
    "                correct_option = 'true' if any(answer.get('score') == 5 for answer in question.get('answers', [])) else 'false'\n",
    "                formatted_question['score'] = correct_option\n",
    "            \n",
    "            formatted_questions.append(formatted_question)\n",
    "    return formatted_questions"
   ]
  }
 ],
 "metadata": {
  "kernelspec": {
   "display_name": "Python 3 (ipykernel)",
   "language": "python",
   "name": "python3"
  },
  "language_info": {
   "codemirror_mode": {
    "name": "ipython",
    "version": 3
   },
   "file_extension": ".py",
   "mimetype": "text/x-python",
   "name": "python",
   "nbconvert_exporter": "python",
   "pygments_lexer": "ipython3",
   "version": "3.13.1"
  }
 },
 "nbformat": 4,
 "nbformat_minor": 5
}
