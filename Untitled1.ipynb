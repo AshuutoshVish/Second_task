{
 "cells": [
  {
   "cell_type": "code",
   "execution_count": 1,
   "id": "578b2da4-3c76-45cb-9b01-1267701af9a7",
   "metadata": {},
   "outputs": [],
   "source": [
    "import pandas as pd"
   ]
  },
  {
   "cell_type": "code",
   "execution_count": 11,
   "id": "0b15b523-415e-4407-be72-d7c556fe8519",
   "metadata": {},
   "outputs": [],
   "source": [
    "data={'id':[1,2,3,4,5],'name':['ashu','shrma','vikki','sonu','ashuu'],'age':[10,12,13,14,15],'member':[10,12,13,15,45], 'class':['a','b','c','d','e']}\n"
   ]
  },
  {
   "cell_type": "code",
   "execution_count": 12,
   "id": "4b3c9f7b-7042-42be-a8ab-99d5379e4acd",
   "metadata": {},
   "outputs": [
    {
     "ename": "KeyError",
     "evalue": "'id'",
     "output_type": "error",
     "traceback": [
      "\u001b[1;31m---------------------------------------------------------------------------\u001b[0m",
      "\u001b[1;31mKeyError\u001b[0m                                  Traceback (most recent call last)",
      "Cell \u001b[1;32mIn[12], line 1\u001b[0m\n\u001b[1;32m----> 1\u001b[0m df\u001b[38;5;241m=\u001b[39mpd\u001b[38;5;241m.\u001b[39mDataFrame(data,index\u001b[38;5;241m=\u001b[39m\u001b[43mdata\u001b[49m\u001b[43m[\u001b[49m\u001b[38;5;124;43m\"\u001b[39;49m\u001b[38;5;124;43mid\u001b[39;49m\u001b[38;5;124;43m\"\u001b[39;49m\u001b[43m]\u001b[49m)\n\u001b[0;32m      2\u001b[0m df\n",
      "\u001b[1;31mKeyError\u001b[0m: 'id'"
     ]
    }
   ],
   "source": [
    "# df=pd.DataFrame(data,index=data[\"id\"])\n",
    "# df"
   ]
  },
  {
   "cell_type": "code",
   "execution_count": 56,
   "id": "75cfdf2e-f457-4db3-97bc-706ff0d36d55",
   "metadata": {},
   "outputs": [
    {
     "name": "stdout",
     "output_type": "stream",
     "text": [
      "[[1, 'ashu', 10, 58, 5], [2, 'sharma', 12, 78, 4], [3, 'vikki', 14, 78, 6], [4, 'sonu', 15, 99, 8], [5, 'ashu', 20, 55, 9]]\n"
     ]
    },
    {
     "data": {
      "text/html": [
       "<div>\n",
       "<style scoped>\n",
       "    .dataframe tbody tr th:only-of-type {\n",
       "        vertical-align: middle;\n",
       "    }\n",
       "\n",
       "    .dataframe tbody tr th {\n",
       "        vertical-align: top;\n",
       "    }\n",
       "\n",
       "    .dataframe thead th {\n",
       "        text-align: right;\n",
       "    }\n",
       "</style>\n",
       "<table border=\"1\" class=\"dataframe\">\n",
       "  <thead>\n",
       "    <tr style=\"text-align: right;\">\n",
       "      <th></th>\n",
       "      <th>id</th>\n",
       "      <th>name</th>\n",
       "      <th>age</th>\n",
       "      <th>marks</th>\n",
       "      <th>class</th>\n",
       "    </tr>\n",
       "  </thead>\n",
       "  <tbody>\n",
       "    <tr>\n",
       "      <th>0</th>\n",
       "      <td>1</td>\n",
       "      <td>ashu</td>\n",
       "      <td>10</td>\n",
       "      <td>58</td>\n",
       "      <td>5</td>\n",
       "    </tr>\n",
       "    <tr>\n",
       "      <th>1</th>\n",
       "      <td>2</td>\n",
       "      <td>sharma</td>\n",
       "      <td>12</td>\n",
       "      <td>78</td>\n",
       "      <td>4</td>\n",
       "    </tr>\n",
       "    <tr>\n",
       "      <th>2</th>\n",
       "      <td>3</td>\n",
       "      <td>vikki</td>\n",
       "      <td>14</td>\n",
       "      <td>78</td>\n",
       "      <td>6</td>\n",
       "    </tr>\n",
       "    <tr>\n",
       "      <th>3</th>\n",
       "      <td>4</td>\n",
       "      <td>sonu</td>\n",
       "      <td>15</td>\n",
       "      <td>99</td>\n",
       "      <td>8</td>\n",
       "    </tr>\n",
       "    <tr>\n",
       "      <th>4</th>\n",
       "      <td>5</td>\n",
       "      <td>ashu</td>\n",
       "      <td>20</td>\n",
       "      <td>55</td>\n",
       "      <td>9</td>\n",
       "    </tr>\n",
       "  </tbody>\n",
       "</table>\n",
       "</div>"
      ],
      "text/plain": [
       "   id    name  age  marks  class\n",
       "0   1    ashu   10     58      5\n",
       "1   2  sharma   12     78      4\n",
       "2   3   vikki   14     78      6\n",
       "3   4    sonu   15     99      8\n",
       "4   5    ashu   20     55      9"
      ]
     },
     "execution_count": 56,
     "metadata": {},
     "output_type": "execute_result"
    }
   ],
   "source": [
    "data= [\n",
    "    [1,2,3,4,5],\n",
    "    ['ashu','sharma','vikki','sonu','ashu'],\n",
    "    [10,12,14,15,20],\n",
    "    [58,78,78,99,55],\n",
    "    [5,4,6,8,9]\n",
    "]\n",
    "#-----------------------------------------------------------------------------\n",
    "new=[[ data[j][i] for j in range(5)] for i in range(5)]\n",
    "# for i in range(5):\n",
    "#     out=[]\n",
    "#     for j in range(5):\n",
    "#             out.append(data[j][i])\n",
    "#     new.append(out)\n",
    "print(new)\n",
    "\n",
    "#______________________________________________________________________________\n",
    "df=pd.DataFrame(new,columns=['id','name','age','marks','class'])\n",
    "df"
   ]
  }
 ],
 "metadata": {
  "kernelspec": {
   "display_name": "Python 3 (ipykernel)",
   "language": "python",
   "name": "python3"
  },
  "language_info": {
   "codemirror_mode": {
    "name": "ipython",
    "version": 3
   },
   "file_extension": ".py",
   "mimetype": "text/x-python",
   "name": "python",
   "nbconvert_exporter": "python",
   "pygments_lexer": "ipython3",
   "version": "3.13.1"
  }
 },
 "nbformat": 4,
 "nbformat_minor": 5
}
