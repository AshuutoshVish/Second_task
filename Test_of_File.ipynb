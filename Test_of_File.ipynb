{
 "cells": [
  {
   "cell_type": "code",
   "execution_count": 1,
   "id": "e45567e2-4360-4d83-a9c5-54dbfc0229f6",
   "metadata": {},
   "outputs": [],
   "source": [
    "import pandas as pd"
   ]
  },
  {
   "cell_type": "code",
   "execution_count": 2,
   "id": "a2c150a6-e0d7-47ac-b67d-113192d487e2",
   "metadata": {},
   "outputs": [],
   "source": [
    "df=pd.read_excel('Critical Thinking.xlsx')"
   ]
  },
  {
   "cell_type": "code",
   "execution_count": 3,
   "id": "b4a977cf-f44a-4e62-8397-f3a6a79320fc",
   "metadata": {},
   "outputs": [
    {
     "data": {
      "text/html": [
       "<div>\n",
       "<style scoped>\n",
       "    .dataframe tbody tr th:only-of-type {\n",
       "        vertical-align: middle;\n",
       "    }\n",
       "\n",
       "    .dataframe tbody tr th {\n",
       "        vertical-align: top;\n",
       "    }\n",
       "\n",
       "    .dataframe thead th {\n",
       "        text-align: right;\n",
       "    }\n",
       "</style>\n",
       "<table border=\"1\" class=\"dataframe\">\n",
       "  <thead>\n",
       "    <tr style=\"text-align: right;\">\n",
       "      <th></th>\n",
       "      <th>questions = [     {         \"title\": \"For this question, consider the following premises as factual and choose which conclusion logically follows from these premises. To logically follow, the conclusion must be a logical consequence of the premises. Do not consider these premises or conclusions based on information or beliefs outside of this test, including your understanding of reality, known information, or educated assumptions outside of this test.Premise 1: All managers can view confidential documents.Premise 2: All team leaders are managers.Which conclusion logically follows from these premises?\",         \"ques_type\": 1,         \"options\": [             \"No team leaders can view confidential documents.\",             \"All managers are team leaders.\",             \"No managers are team leaders.\",             \"All team leaders can view confidential documents.\"         ],         \"score\": \"All team leaders can view confidential documents.\"     },     {         \"title\": \"For this question, consider the statements below and choose the answer option that best describes whether Statement 2 contradicts, supports, restates, or is irrelevant to the logic of Statement 1. Contradicts means it denies or implies the opposite; supports means it verifies or makes more certain; restates means it says again or in a very similar way; is irrelevant to means it does not affect or apply.Statement 1: Being efficient at work means balancing the time and effort it takes to accomplish a task with the value of the completed task. A task that takes a lot of time and energy should have a high completion value or else it\\u2019s not efficient to complete. Being efficient requires wisdom in addition to other skills.Statement 2: The most efficient employees are the ones who don\\u2019t question what tasks they are assigned and just say \\u201cyes\\u201d to whatever they are asked.Which of the following best describes the logical relationship between these statements?\",         \"ques_type\": 1,         \"options\": [             \"Statement 2 contradicts Statement 1.\",             \"Statement 2 supports Statement 1.\",             \"Statement 2 restates Statement 1.\",             \"Statement 2 is irrelevant to Statement 1.\"         ],         \"score\": \"Statement 2 contradicts Statement 1.\"     },     {         \"title\": \"For this question, consider the passage below and identify which assumption the passage most logically relies on or depends upon.Passage: A survey revealed that companies involving customers in their early product development stages have a 15% higher customer satisfaction rate post-launch. So, incorporating customer feedback during product development might enhance user adoption for a new product.Which one of the following is an assumption upon which the passage\\u2019s argument depends?\",         \"ques_type\": 1,         \"options\": [             \"The survey interviewed companies creating similar products to each other.\",             \"A 15% customer satisfaction rate boost will impact a company\\u2019s profitability.\",             \"Costs to involve customers in early product development are offset by increased revenue from higher customer satisfaction.\",             \"Increased customer satisfaction results in increased user adoption.\"         ],         \"score\": \"Increased customer satisfaction results in increased user adoption.\"     },     {         \"title\": \"For this question, consider the following argument and related piece of data. Then, decide the relationship of the piece of data to the strength of the argument. The piece of data strengthens when it adds credibility; it weakens when it reduces credibility; it has no effect if it does not affect the argument\\u2019s credibility.Argument: Using structured interviews in the hiring process leads to better employee selection outcomes. These standardized formats can help reduce bias and provide more accurate comparisons between candidates.Piece of data: Managers report that candidates who perform well in structured interviews also tend to perform well on the job if they are hired.Does the piece of data strengthen, weaken, or have no effect on the persuasiveness of the argument?? \",         \"ques_type\": 1,         \"options\": [             \"Strengthen\",             \"Weaken\",             \"Has no effect\"         ],         \"score\": \"Strengthen\"     } ]</th>\n",
       "    </tr>\n",
       "  </thead>\n",
       "  <tbody>\n",
       "  </tbody>\n",
       "</table>\n",
       "</div>"
      ],
      "text/plain": [
       "Empty DataFrame\n",
       "Columns: [questions = [     {         \"title\": \"For this question, consider the following premises as factual and choose which conclusion logically follows from these premises. To logically follow, the conclusion must be a logical consequence of the premises. Do not consider these premises or conclusions based on information or beliefs outside of this test, including your understanding of reality, known information, or educated assumptions outside of this test.Premise 1: All managers can view confidential documents.Premise 2: All team leaders are managers.Which conclusion logically follows from these premises?\",         \"ques_type\": 1,         \"options\": [             \"No team leaders can view confidential documents.\",             \"All managers are team leaders.\",             \"No managers are team leaders.\",             \"All team leaders can view confidential documents.\"         ],         \"score\": \"All team leaders can view confidential documents.\"     },     {         \"title\": \"For this question, consider the statements below and choose the answer option that best describes whether Statement 2 contradicts, supports, restates, or is irrelevant to the logic of Statement 1. Contradicts means it denies or implies the opposite; supports means it verifies or makes more certain; restates means it says again or in a very similar way; is irrelevant to means it does not affect or apply.Statement 1: Being efficient at work means balancing the time and effort it takes to accomplish a task with the value of the completed task. A task that takes a lot of time and energy should have a high completion value or else it\\u2019s not efficient to complete. Being efficient requires wisdom in addition to other skills.Statement 2: The most efficient employees are the ones who don\\u2019t question what tasks they are assigned and just say \\u201cyes\\u201d to whatever they are asked.Which of the following best describes the logical relationship between these statements?\",         \"ques_type\": 1,         \"options\": [             \"Statement 2 contradicts Statement 1.\",             \"Statement 2 supports Statement 1.\",             \"Statement 2 restates Statement 1.\",             \"Statement 2 is irrelevant to Statement 1.\"         ],         \"score\": \"Statement 2 contradicts Statement 1.\"     },     {         \"title\": \"For this question, consider the passage below and identify which assumption the passage most logically relies on or depends upon.Passage: A survey revealed that companies involving customers in their early product development stages have a 15% higher customer satisfaction rate post-launch. So, incorporating customer feedback during product development might enhance user adoption for a new product.Which one of the following is an assumption upon which the passage\\u2019s argument depends?\",         \"ques_type\": 1,         \"options\": [             \"The survey interviewed companies creating similar products to each other.\",             \"A 15% customer satisfaction rate boost will impact a company\\u2019s profitability.\",             \"Costs to involve customers in early product development are offset by increased revenue from higher customer satisfaction.\",             \"Increased customer satisfaction results in increased user adoption.\"         ],         \"score\": \"Increased customer satisfaction results in increased user adoption.\"     },     {         \"title\": \"For this question, consider the following argument and related piece of data. Then, decide the relationship of the piece of data to the strength of the argument. The piece of data strengthens when it adds credibility; it weakens when it reduces credibility; it has no effect if it does not affect the argument\\u2019s credibility.Argument: Using structured interviews in the hiring process leads to better employee selection outcomes. These standardized formats can help reduce bias and provide more accurate comparisons between candidates.Piece of data: Managers report that candidates who perform well in structured interviews also tend to perform well on the job if they are hired.Does the piece of data strengthen, weaken, or have no effect on the persuasiveness of the argument?? \",         \"ques_type\": 1,         \"options\": [             \"Strengthen\",             \"Weaken\",             \"Has no effect\"         ],         \"score\": \"Strengthen\"     } ]]\n",
       "Index: []"
      ]
     },
     "execution_count": 3,
     "metadata": {},
     "output_type": "execute_result"
    }
   ],
   "source": [
    "df"
   ]
  },
  {
   "cell_type": "code",
   "execution_count": 4,
   "id": "52609a4a-6249-404b-86ab-836030dcb624",
   "metadata": {},
   "outputs": [
    {
     "data": {
      "text/plain": [
       "(0, 1)"
      ]
     },
     "execution_count": 4,
     "metadata": {},
     "output_type": "execute_result"
    }
   ],
   "source": [
    "df.shape"
   ]
  }
 ],
 "metadata": {
  "kernelspec": {
   "display_name": "Python 3 (ipykernel)",
   "language": "python",
   "name": "python3"
  },
  "language_info": {
   "codemirror_mode": {
    "name": "ipython",
    "version": 3
   },
   "file_extension": ".py",
   "mimetype": "text/x-python",
   "name": "python",
   "nbconvert_exporter": "python",
   "pygments_lexer": "ipython3",
   "version": "3.13.1"
  }
 },
 "nbformat": 4,
 "nbformat_minor": 5
}
